{
 "cells": [
  {
   "cell_type": "markdown",
   "metadata": {},
   "source": [
    "## Softmax Activation Function\n",
    "\n",
    "The Softmax function is a generalization of the Sigmoid function used in multi-class classification problems. It transforms a vector of raw scores (logits) into probabilities, with each probability corresponding to a class. The Softmax function is defined as:\n",
    "\n",
    "\n",
    "$f(z_i) = \\frac{e^{z_i}}{\\sum_{j=1}^{K} e^{z_j}}$\n",
    "\n",
    "\n",
    "where \\( z \\) is the input vector, \\( z_i \\) is the \\( i \\)-th element of the vector, and \\( K \\) is the total number of classes.\n",
    "\n",
    "### Key Characteristics:\n",
    "- **Output Range**: The output of the Softmax function is a probability distribution over the classes, where each output value is between 0 and 1, and the sum of all output values equals 1.\n",
    "- **Multi-class Classification**: Softmax is typically used in the output layer of a neural network for multi-class classification tasks, where it helps determine the class probabilities for each input.\n",
    "\n",
    "### Use in Softmax Regression:\n",
    "Softmax Regression, also known as multinomial logistic regression, is a generalization of logistic regression that is used for predicting the probabilities of multiple classes. The Softmax function is used in the output layer to provide probabilities for each class.\n"
   ]
  },
  {
   "cell_type": "code",
   "execution_count": 2,
   "metadata": {},
   "outputs": [],
   "source": [
    "import numpy as np"
   ]
  },
  {
   "cell_type": "code",
   "execution_count": 3,
   "metadata": {},
   "outputs": [
    {
     "name": "stdout",
     "output_type": "stream",
     "text": [
      "Logits: [2.  1.  0.1]\n",
      "Softmax Output: [0.65900114 0.24243297 0.09856589]\n"
     ]
    }
   ],
   "source": [
    "# Define the Softmax function\n",
    "def softmax(z):\n",
    "    exp_z = np.exp(z - np.max(z))  # Subtract max for numerical stability\n",
    "    return exp_z / exp_z.sum(axis=0)\n",
    "\n",
    "# Example input (logits)\n",
    "logits = np.array([2.0, 1.0, 0.1])\n",
    "\n",
    "# Apply Softmax to the logits\n",
    "softmax_output = softmax(logits)\n",
    "\n",
    "# Display the output\n",
    "print(\"Logits:\", logits)\n",
    "print(\"Softmax Output:\", softmax_output)\n"
   ]
  }
 ],
 "metadata": {
  "kernelspec": {
   "display_name": "Python 3",
   "language": "python",
   "name": "python3"
  },
  "language_info": {
   "codemirror_mode": {
    "name": "ipython",
    "version": 3
   },
   "file_extension": ".py",
   "mimetype": "text/x-python",
   "name": "python",
   "nbconvert_exporter": "python",
   "pygments_lexer": "ipython3",
   "version": "3.10.0"
  }
 },
 "nbformat": 4,
 "nbformat_minor": 2
}
